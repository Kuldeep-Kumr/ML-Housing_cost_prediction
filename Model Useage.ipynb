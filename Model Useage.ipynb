{
 "cells": [
  {
   "cell_type": "code",
   "execution_count": 1,
   "id": "grateful-cartoon",
   "metadata": {},
   "outputs": [],
   "source": [
    "from joblib import load\n",
    "model = load ('Housing Cost.joblib')"
   ]
  },
  {
   "cell_type": "markdown",
   "id": "solved-august",
   "metadata": {},
   "source": [
    "## we have to give all the data in 2d array and the model will predict the output in 1d array"
   ]
  },
  {
   "cell_type": "code",
   "execution_count": 2,
   "id": "dominant-recall",
   "metadata": {},
   "outputs": [
    {
     "data": {
      "text/plain": [
       "array([25.943])"
      ]
     },
     "execution_count": 2,
     "metadata": {},
     "output_type": "execute_result"
    }
   ],
   "source": [
    "model.predict([[0.11425,0,13.89,1,0.55,6.373,92.4,3.3633,5,276,16.4,393.74,10.5]])"
   ]
  },
  {
   "cell_type": "markdown",
   "id": "cellular-county",
   "metadata": {},
   "source": [
    "## Inorder to get only the answer we have to do like this"
   ]
  },
  {
   "cell_type": "code",
   "execution_count": 3,
   "id": "polish-recipient",
   "metadata": {},
   "outputs": [],
   "source": [
    "cost = model.predict([[0.11425,0,13.89,1,0.55,6.373,92.4,3.3633,5,276,16.4,393.74,10.5]])"
   ]
  },
  {
   "cell_type": "code",
   "execution_count": 4,
   "id": "genuine-meditation",
   "metadata": {},
   "outputs": [
    {
     "data": {
      "text/plain": [
       "25.943"
      ]
     },
     "execution_count": 4,
     "metadata": {},
     "output_type": "execute_result"
    }
   ],
   "source": [
    "cost[0]"
   ]
  },
  {
   "cell_type": "code",
   "execution_count": null,
   "id": "activated-organization",
   "metadata": {},
   "outputs": [],
   "source": []
  }
 ],
 "metadata": {
  "kernelspec": {
   "display_name": "Python 3",
   "language": "python",
   "name": "python3"
  },
  "language_info": {
   "codemirror_mode": {
    "name": "ipython",
    "version": 3
   },
   "file_extension": ".py",
   "mimetype": "text/x-python",
   "name": "python",
   "nbconvert_exporter": "python",
   "pygments_lexer": "ipython3",
   "version": "3.8.0"
  }
 },
 "nbformat": 4,
 "nbformat_minor": 5
}
